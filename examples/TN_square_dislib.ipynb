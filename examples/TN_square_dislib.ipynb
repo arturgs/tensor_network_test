{
 "cells": [
  {
   "cell_type": "code",
   "execution_count": 2,
   "metadata": {},
   "outputs": [
    {
     "ename": "ModuleNotFoundError",
     "evalue": "No module named 'dislib'",
     "output_type": "error",
     "traceback": [
      "\u001b[0;31m---------------------------------------------------------------------------\u001b[0m",
      "\u001b[0;31mModuleNotFoundError\u001b[0m                       Traceback (most recent call last)",
      "\u001b[0;32m<ipython-input-2-6ba5a2858c77>\u001b[0m in \u001b[0;36m<module>\u001b[0;34m\u001b[0m\n\u001b[0;32m----> 1\u001b[0;31m \u001b[0;32mimport\u001b[0m \u001b[0mdislib\u001b[0m \u001b[0;32mas\u001b[0m \u001b[0mdl\u001b[0m\u001b[0;34m\u001b[0m\u001b[0;34m\u001b[0m\u001b[0m\n\u001b[0m\u001b[1;32m      2\u001b[0m \u001b[0;32mfrom\u001b[0m \u001b[0mdislib\u001b[0m\u001b[0;34m.\u001b[0m\u001b[0mutils\u001b[0m \u001b[0;32mimport\u001b[0m \u001b[0mshuffle\u001b[0m\u001b[0;34m\u001b[0m\u001b[0;34m\u001b[0m\u001b[0m\n\u001b[1;32m      3\u001b[0m \u001b[0;32mfrom\u001b[0m \u001b[0mdislib\u001b[0m\u001b[0;34m.\u001b[0m\u001b[0mmath\u001b[0m \u001b[0;32mimport\u001b[0m \u001b[0msvd\u001b[0m\u001b[0;34m\u001b[0m\u001b[0;34m\u001b[0m\u001b[0m\n",
      "\u001b[0;31mModuleNotFoundError\u001b[0m: No module named 'dislib'"
     ]
    }
   ],
   "source": [
    "import dislib as dl\n",
    "from dislib.utils import shuffle\n",
    "from dislib.math import svd"
   ]
  },
  {
   "cell_type": "code",
   "execution_count": 1,
   "metadata": {},
   "outputs": [
    {
     "ename": "NameError",
     "evalue": "name 'dl' is not defined",
     "output_type": "error",
     "traceback": [
      "\u001b[0;31m---------------------------------------------------------------------------\u001b[0m",
      "\u001b[0;31mNameError\u001b[0m                                 Traceback (most recent call last)",
      "\u001b[0;32m<ipython-input-1-0e833fa751a2>\u001b[0m in \u001b[0;36m<module>\u001b[0;34m\u001b[0m\n\u001b[0;32m----> 1\u001b[0;31m \u001b[0mgate1\u001b[0m \u001b[0;34m=\u001b[0m \u001b[0mdl\u001b[0m\u001b[0;34m.\u001b[0m\u001b[0mrandom_array\u001b[0m\u001b[0;34m(\u001b[0m\u001b[0mshape\u001b[0m\u001b[0;34m=\u001b[0m\u001b[0;34m(\u001b[0m\u001b[0;36m20\u001b[0m\u001b[0;34m,\u001b[0m\u001b[0;36m20\u001b[0m\u001b[0;34m,\u001b[0m\u001b[0;36m5\u001b[0m\u001b[0;34m,\u001b[0m\u001b[0;36m3\u001b[0m\u001b[0;34m)\u001b[0m\u001b[0;34m,\u001b[0m \u001b[0mblock_size\u001b[0m\u001b[0;34m=\u001b[0m\u001b[0;34m(\u001b[0m\u001b[0;36m250\u001b[0m\u001b[0;34m,\u001b[0m \u001b[0;36m250\u001b[0m\u001b[0;34m)\u001b[0m\u001b[0;34m)\u001b[0m\u001b[0;34m\u001b[0m\u001b[0;34m\u001b[0m\u001b[0m\n\u001b[0m",
      "\u001b[0;31mNameError\u001b[0m: name 'dl' is not defined"
     ]
    }
   ],
   "source": [
    "gate1 = dl.random_array(shape=(20,20,5,3), block_size=(250, 250))"
   ]
  },
  {
   "cell_type": "code",
   "execution_count": 90,
   "metadata": {},
   "outputs": [
    {
     "data": {
      "text/plain": [
       "(2000, 2000)"
      ]
     },
     "execution_count": 90,
     "metadata": {},
     "output_type": "execute_result"
    }
   ],
   "source": [
    "gate1.shape"
   ]
  },
  {
   "cell_type": "code",
   "execution_count": 91,
   "metadata": {},
   "outputs": [
    {
     "name": "stdout",
     "output_type": "stream",
     "text": [
      "         353990 function calls (272922 primitive calls) in 21.451 seconds\n",
      "\n",
      "   Ordered by: standard name\n",
      "\n",
      "   ncalls  tottime  percall  cumtime  percall filename:lineno(function)\n",
      "        1    0.000    0.000    0.000    0.000 <__array_function__ internals>:2(argsort)\n",
      "       32    0.000    0.000    0.006    0.000 <__array_function__ internals>:2(atleast_2d)\n",
      "      971    0.003    0.000    0.838    0.001 <__array_function__ internals>:2(block)\n",
      "       96    0.000    0.000    0.045    0.000 <__array_function__ internals>:2(concatenate)\n",
      "      168    0.000    0.000    0.194    0.001 <__array_function__ internals>:2(dot)\n",
      "       64    0.000    0.000    0.002    0.000 <__array_function__ internals>:2(intersect1d)\n",
      "      184    0.001    0.000    0.215    0.001 <__array_function__ internals>:2(norm)\n",
      "      848    0.002    0.000    0.011    0.000 <__array_function__ internals>:2(result_type)\n",
      "      168    0.001    0.000    0.629    0.004 <__array_function__ internals>:2(sum)\n",
      "      122    0.000    0.000   12.468    0.102 <__array_function__ internals>:2(svd)\n",
      "      128    0.000    0.000    0.002    0.000 <__array_function__ internals>:2(unique)\n",
      "       32    0.000    0.000    0.052    0.002 <__array_function__ internals>:2(vstack)\n",
      "     8008    0.010    0.000    0.020    0.000 <__array_function__ internals>:2(where)\n",
      "      673    0.001    0.000    0.003    0.000 <frozen importlib._bootstrap>:997(_handle_fromlist)\n",
      "        1    0.000    0.000   33.153   33.153 <string>:1(<module>)\n",
      "      314    0.000    0.000    0.001    0.000 _asarray.py:16(asarray)\n",
      "     4400    0.001    0.000    0.002    0.000 _asarray.py:88(asanyarray)\n",
      "        7    0.000    0.000    0.000    0.000 _methods.py:44(_any)\n",
      "        7    0.000    0.000    0.000    0.000 api.py:118(compss_wait_on)\n",
      "        7    0.000    0.000    0.000    0.000 api.py:125(<lambda>)\n",
      "      266    0.000    0.000    0.000    0.000 api.py:297(compss_delete_object)\n",
      "        7    0.000    0.000    0.000    0.000 api.py:306(compss_wait_on)\n",
      "      266    0.000    0.000    0.000    0.000 api.py:78(compss_delete_object)\n",
      "        1    0.000    0.000    0.005    0.005 array.py:1085(identity)\n",
      "        1    0.000    0.000    0.017    0.017 array.py:1175(apply_along_axis)\n",
      "       64    0.000    0.000    0.004    0.000 array.py:1414(_identity_block)\n",
      "        8    0.000    0.000    0.017    0.002 array.py:1435(_block_apply_axis)\n",
      "       64    0.000    0.000    0.005    0.000 array.py:1500(_copy_block)\n",
      "      790    0.000    0.000    0.000    0.000 array.py:221(shape)\n",
      "      701    0.003    0.000    0.004    0.000 array.py:256(_validate_blocks)\n",
      "      849    0.005    0.000    0.768    0.001 array.py:267(_merge_blocks)\n",
      "        3    0.000    0.000    0.000    0.000 array.py:285(_get_out_blocks)\n",
      "        3    0.000    0.000    0.000    0.000 array.py:291(<listcomp>)\n",
      "        1    0.000    0.000    0.000    0.000 array.py:402(_is_regular)\n",
      "      696    0.002    0.000    0.002    0.000 array.py:422(_get_col_shape)\n",
      "      696    0.006    0.000    0.017    0.000 array.py:448(_get_col_block)\n",
      "      696    0.003    0.000    0.003    0.000 array.py:450(<listcomp>)\n",
      "       27    0.000    0.000    0.001    0.000 array.py:456(_iterator)\n",
      "      701    0.002    0.000    0.006    0.000 array.py:58(__init__)\n",
      "      701    0.000    0.000    0.000    0.000 array.py:72(__del__)\n",
      "        5    0.000    0.000    0.000    0.000 array.py:74(<listcomp>)\n",
      "        1    0.000    0.000    0.017    0.017 array.py:903(norm)\n",
      "        1    0.000    0.000    0.005    0.005 array.py:966(copy)\n",
      "      128    0.000    0.000    0.000    0.000 arraysetops.py:138(_unpack_tuple)\n",
      "      128    0.000    0.000    0.000    0.000 arraysetops.py:146(_unique_dispatcher)\n",
      "      128    0.000    0.000    0.001    0.000 arraysetops.py:151(unique)\n",
      "      128    0.001    0.000    0.001    0.000 arraysetops.py:298(_unique1d)\n",
      "       64    0.000    0.000    0.000    0.000 arraysetops.py:331(_intersect1d_dispatcher)\n",
      "       64    0.000    0.000    0.002    0.000 arraysetops.py:336(intersect1d)\n",
      "      857    0.001    0.000    0.002    0.000 base.py:1192(isspmatrix)\n",
      "        7    0.000    0.000    0.000    0.000 base.py:206(_check_convergence_svd)\n",
      "        1    0.000    0.000    0.093    0.093 base.py:224(_compute_u_sorted)\n",
      "        1    0.000    0.000    0.000    0.000 base.py:225(<listcomp>)\n",
      "        8    0.000    0.000    0.000    0.000 base.py:229(<listcomp>)\n",
      "        8    0.000    0.000    0.000    0.000 base.py:239(<listcomp>)\n",
      "        1    0.000    0.000    0.066    0.066 base.py:252(_sort_v)\n",
      "        1    0.000    0.000    0.000    0.000 base.py:253(<listcomp>)\n",
      "        8    0.000    0.000    0.000    0.000 base.py:257(<listcomp>)\n",
      "        8    0.000    0.000    0.000    0.000 base.py:267(<listcomp>)\n",
      "        1    0.000    0.000    0.000    0.000 base.py:280(_sort_s)\n",
      "        8    0.021    0.003    0.068    0.008 base.py:313(_compute_u_block_sorted)\n",
      "       16    0.031    0.002    0.050    0.003 base.py:340(_merge_svd_block)\n",
      "      128    0.001    0.000    0.001    0.000 base.py:343(<lambda>)\n",
      "        8    0.011    0.001    0.040    0.005 base.py:357(_sort_v_block)\n",
      "      168    3.561    0.021   28.981    0.173 base.py:372(_compute_rotation)\n",
      "      168    0.045    0.000   11.747    0.070 base.py:386(<listcomp>)\n",
      "      336    3.496    0.010    3.944    0.012 base.py:398(_rotate)\n",
      "        1    0.006    0.006   33.153   33.153 base.py:86(svd)\n",
      "      673    0.001    0.000    0.001    0.000 context.py:37(in_master)\n",
      "      673    0.000    0.000    0.000    0.000 context.py:46(in_worker)\n",
      "      168    0.000    0.000    0.000    0.000 fromnumeric.py:2087(_sum_dispatcher)\n",
      "      168    0.001    0.000    0.628    0.004 fromnumeric.py:2092(sum)\n",
      "     7280    0.002    0.000    0.002    0.000 fromnumeric.py:3037(ndim)\n",
      "     7280    0.004    0.000    0.004    0.000 fromnumeric.py:3079(size)\n",
      "        1    0.000    0.000    0.000    0.000 fromnumeric.py:55(_wrapfunc)\n",
      "      168    0.002    0.000    0.627    0.004 fromnumeric.py:73(_wrapreduction)\n",
      "      168    0.000    0.000    0.000    0.000 fromnumeric.py:74(<dictcomp>)\n",
      "        1    0.000    0.000    0.000    0.000 fromnumeric.py:993(_argsort_dispatcher)\n",
      "        1    0.000    0.000    0.000    0.000 fromnumeric.py:997(argsort)\n",
      "      122    0.000    0.000    0.000    0.000 linalg.py:111(get_linalg_error_extobj)\n",
      "      122    0.000    0.000    0.001    0.000 linalg.py:116(_makearray)\n",
      "      412    0.000    0.000    0.000    0.000 linalg.py:121(isComplexType)\n",
      "      244    0.000    0.000    0.001    0.000 linalg.py:134(_realType)\n",
      "      122    0.001    0.000    0.001    0.000 linalg.py:144(_commonType)\n",
      "      122    0.000    0.000    0.000    0.000 linalg.py:1454(_svd_dispatcher)\n",
      "      122   12.462    0.102   12.467    0.102 linalg.py:1458(svd)\n",
      "      122    0.000    0.000    0.000    0.000 linalg.py:203(_assert_stacked_2d)\n",
      "      184    0.000    0.000    0.000    0.000 linalg.py:2312(_norm_dispatcher)\n",
      "      184    0.013    0.000    0.214    0.001 linalg.py:2316(norm)\n",
      "       96    0.000    0.000    0.000    0.000 multiarray.py:145(concatenate)\n",
      "     8008    0.001    0.000    0.001    0.000 multiarray.py:312(where)\n",
      "      848    0.000    0.000    0.000    0.000 multiarray.py:635(result_type)\n",
      "      168    0.000    0.000    0.000    0.000 multiarray.py:707(dot)\n",
      "       32    0.000    0.000    0.000    0.000 shape_base.py:209(_arrays_for_stack_dispatcher)\n",
      "       32    0.000    0.000    0.000    0.000 shape_base.py:220(_vhstack_dispatcher)\n",
      "       32    0.000    0.000    0.051    0.002 shape_base.py:224(vstack)\n",
      "15280/971    0.044    0.000    0.068    0.000 shape_base.py:452(_block_check_depths_match)\n",
      "22309/8000    0.013    0.000    0.055    0.000 shape_base.py:497(<genexpr>)\n",
      "     7280    0.003    0.000    0.008    0.000 shape_base.py:528(_atleast_nd)\n",
      "     7632    0.007    0.000    0.008    0.000 shape_base.py:534(_accumulate)\n",
      "     7632    0.029    0.000    0.061    0.000 shape_base.py:545(_concatenate_shapes)\n",
      "     7632    0.003    0.000    0.003    0.000 shape_base.py:582(<listcomp>)\n",
      "    21200    0.008    0.000    0.008    0.000 shape_base.py:589(<genexpr>)\n",
      "     7632    0.006    0.000    0.006    0.000 shape_base.py:597(<listcomp>)\n",
      "14416/848    0.035    0.000    0.122    0.000 shape_base.py:603(_block_info_recursion)\n",
      " 7632/848    0.010    0.000    0.100    0.000 shape_base.py:632(<listcomp>)\n",
      "     7632    0.005    0.000    0.005    0.000 shape_base.py:639(<listcomp>)\n",
      "  864/123    0.001    0.000    0.068    0.001 shape_base.py:656(_block)\n",
      "  368/123    0.001    0.000    0.043    0.000 shape_base.py:666(<listcomp>)\n",
      "37120/8251    0.019    0.000    0.019    0.000 shape_base.py:675(_block_dispatcher)\n",
      "      971    0.004    0.000    0.811    0.001 shape_base.py:687(block)\n",
      "       32    0.000    0.000    0.000    0.000 shape_base.py:79(_atleast_2d_dispatcher)\n",
      "       32    0.004    0.000    0.006    0.000 shape_base.py:83(atleast_2d)\n",
      "      971    0.003    0.000    0.072    0.000 shape_base.py:862(_block_setup)\n",
      "      848    0.520    0.001    0.667    0.001 shape_base.py:879(_block_slicing)\n",
      "      848    0.001    0.000    0.001    0.000 shape_base.py:882(<listcomp>)\n",
      "     1696    0.003    0.000    0.003    0.000 shape_base.py:885(<genexpr>)\n",
      "     7632    0.003    0.000    0.003    0.000 shape_base.py:886(<genexpr>)\n",
      "      123    0.001    0.000    0.069    0.001 shape_base.py:898(_block_concatenate)\n",
      "      673    0.007    0.000   33.123    0.049 task.py:1713(sequential_call)\n",
      "      673    0.004    0.000   33.128    0.049 task.py:259(task_decorator)\n",
      "      673    0.001    0.000    0.001    0.000 task.py:32(__init__)\n",
      "      673    0.000    0.000    0.000    0.000 task.py:36(__call__)\n",
      "      673    0.004    0.000   33.111    0.049 task.py:37(wrapped_f)\n",
      "     7632    0.004    0.000    0.004    0.000 {built-in method _functools.reduce}\n",
      "     1696    0.002    0.000    0.007    0.000 {built-in method builtins.all}\n",
      "     7632    0.005    0.000    0.013    0.000 {built-in method builtins.any}\n",
      "        1    0.000    0.000   33.153   33.153 {built-in method builtins.exec}\n",
      "      291    0.001    0.000    0.001    0.000 {built-in method builtins.getattr}\n",
      "      705    0.003    0.000    0.003    0.000 {built-in method builtins.hasattr}\n",
      "     1073    0.001    0.000    0.001    0.000 {built-in method builtins.isinstance}\n",
      "      718    0.000    0.000    0.000    0.000 {built-in method builtins.issubclass}\n",
      "    31195    0.004    0.000    0.004    0.000 {built-in method builtins.len}\n",
      "      971    0.001    0.000    0.001    0.000 {built-in method builtins.max}\n",
      "      464    0.001    0.000    0.001    0.000 {built-in method builtins.min}\n",
      "8000/7029    0.003    0.000    0.038    0.000 {built-in method builtins.next}\n",
      "     7632    0.002    0.000    0.002    0.000 {built-in method builtins.sum}\n",
      "        2    0.000    0.000    0.000    0.000 {built-in method math.ceil}\n",
      "      128    0.000    0.000    0.000    0.000 {built-in method numpy.arange}\n",
      "    12001    0.006    0.000    0.006    0.000 {built-in method numpy.array}\n",
      "      368    0.066    0.000    0.066    0.000 {built-in method numpy.core._multiarray_umath.concatenate}\n",
      "10822/9550    0.264    0.000   14.209    0.001 {built-in method numpy.core._multiarray_umath.implement_array_function}\n",
      "      976    0.005    0.000    0.005    0.000 {built-in method numpy.empty}\n",
      "       64    0.001    0.000    0.001    0.000 {built-in method numpy.zeros}\n",
      "      244    0.000    0.000    0.000    0.000 {method '__array_prepare__' of 'numpy.ndarray' objects}\n",
      "        7    0.000    0.000    0.000    0.000 {method 'any' of 'numpy.ndarray' objects}\n",
      "    25960    0.003    0.000    0.003    0.000 {method 'append' of 'list' objects}\n",
      "        1    0.000    0.000    0.000    0.000 {method 'argsort' of 'numpy.ndarray' objects}\n",
      "      366    0.002    0.000    0.002    0.000 {method 'astype' of 'numpy.ndarray' objects}\n",
      "       16    0.000    0.000    0.000    0.000 {method 'conj' of 'numpy.ndarray' objects}\n",
      "       64    0.005    0.000    0.005    0.000 {method 'copy' of 'numpy.ndarray' objects}\n",
      "        1    0.000    0.000    0.000    0.000 {method 'disable' of '_lsprof.Profiler' objects}\n",
      "      128    0.000    0.000    0.000    0.000 {method 'flatten' of 'numpy.ndarray' objects}\n",
      "      244    0.000    0.000    0.000    0.000 {method 'get' of 'dict' objects}\n",
      "      168    0.000    0.000    0.000    0.000 {method 'items' of 'dict' objects}\n",
      "      168    0.001    0.000    0.001    0.000 {method 'ravel' of 'numpy.ndarray' objects}\n",
      "      191    0.630    0.003    0.630    0.003 {method 'reduce' of 'numpy.ufunc' objects}\n",
      "       16    0.000    0.000    0.000    0.000 {method 'reshape' of 'numpy.ndarray' objects}\n",
      "      192    0.000    0.000    0.000    0.000 {method 'sort' of 'numpy.ndarray' objects}\n",
      "\n",
      "\n"
     ]
    }
   ],
   "source": [
    "import cProfile\n",
    "import re\n",
    "cProfile.run('[u,d,v] = svd(gate1)')"
   ]
  },
  {
   "cell_type": "code",
   "execution_count": 83,
   "metadata": {},
   "outputs": [],
   "source": [
    "import numpy as np"
   ]
  },
  {
   "cell_type": "code",
   "execution_count": 84,
   "metadata": {},
   "outputs": [],
   "source": [
    "gate2 = np.random.rand(2000,2000)"
   ]
  },
  {
   "cell_type": "code",
   "execution_count": 85,
   "metadata": {},
   "outputs": [
    {
     "name": "stdout",
     "output_type": "stream",
     "text": [
      "         1674 function calls in 3.964 seconds\n",
      "\n",
      "   Ordered by: standard name\n",
      "\n",
      "   ncalls  tottime  percall  cumtime  percall filename:lineno(function)\n",
      "        1    0.000    0.000    3.961    3.961 <__array_function__ internals>:2(svd)\n",
      "        1    0.002    0.002    3.964    3.964 <string>:1(<module>)\n",
      "        1    0.000    0.000    0.000    0.000 _asarray.py:16(asarray)\n",
      "      820    0.000    0.000    0.000    0.000 api.py:297(compss_delete_object)\n",
      "      820    0.000    0.000    0.000    0.000 api.py:78(compss_delete_object)\n",
      "        3    0.000    0.000    0.001    0.000 array.py:72(__del__)\n",
      "        3    0.000    0.000    0.001    0.000 array.py:74(<listcomp>)\n",
      "        1    0.000    0.000    0.000    0.000 linalg.py:111(get_linalg_error_extobj)\n",
      "        1    0.000    0.000    0.000    0.000 linalg.py:116(_makearray)\n",
      "        2    0.000    0.000    0.000    0.000 linalg.py:121(isComplexType)\n",
      "        2    0.000    0.000    0.000    0.000 linalg.py:134(_realType)\n",
      "        1    0.000    0.000    0.000    0.000 linalg.py:144(_commonType)\n",
      "        1    0.000    0.000    0.000    0.000 linalg.py:1454(_svd_dispatcher)\n",
      "        1    3.961    3.961    3.961    3.961 linalg.py:1458(svd)\n",
      "        1    0.000    0.000    0.000    0.000 linalg.py:203(_assert_stacked_2d)\n",
      "        1    0.000    0.000    3.964    3.964 {built-in method builtins.exec}\n",
      "        1    0.000    0.000    0.000    0.000 {built-in method builtins.getattr}\n",
      "        3    0.000    0.000    0.000    0.000 {built-in method builtins.issubclass}\n",
      "        1    0.000    0.000    0.000    0.000 {built-in method numpy.array}\n",
      "        1    0.000    0.000    3.961    3.961 {built-in method numpy.core._multiarray_umath.implement_array_function}\n",
      "        2    0.000    0.000    0.000    0.000 {method '__array_prepare__' of 'numpy.ndarray' objects}\n",
      "        3    0.000    0.000    0.000    0.000 {method 'astype' of 'numpy.ndarray' objects}\n",
      "        1    0.000    0.000    0.000    0.000 {method 'disable' of '_lsprof.Profiler' objects}\n",
      "        2    0.000    0.000    0.000    0.000 {method 'get' of 'dict' objects}\n",
      "\n",
      "\n"
     ]
    }
   ],
   "source": [
    "cProfile.run('[u,d,v] = np.linalg.svd(gate2)')"
   ]
  },
  {
   "cell_type": "code",
   "execution_count": 7,
   "metadata": {},
   "outputs": [],
   "source": [
    "def contraction4x4(gate1, gate2):\n",
    "    shape1 = gate1.shape\n",
    "    gate1_contraction = gate1.reshape(shape1[0]*shape1[1]*shape1[2], shape1[3])\n",
    "    shape2 = gate2.shape\n",
    "    gate2_contraction = gate2.reshape(shape2[0], shape2[1]*shape2[2]*shape2[3])\n",
    "    contraction = np.dot(gate1_contraction, gate2_contraction)\n",
    "    final_form = contraction.reshape(shape1[0], shape1[1], shape1[2], shape2[1], shape2[2], shape2[3])\n",
    "    return final_form"
   ]
  },
  {
   "cell_type": "code",
   "execution_count": 8,
   "metadata": {},
   "outputs": [
    {
     "ename": "AttributeError",
     "evalue": "'Array' object has no attribute 'reshape'",
     "output_type": "error",
     "traceback": [
      "\u001b[0;31m---------------------------------------------------------------------------\u001b[0m",
      "\u001b[0;31mAttributeError\u001b[0m                            Traceback (most recent call last)",
      "\u001b[0;32m<ipython-input-8-419a9f3ec548>\u001b[0m in \u001b[0;36m<module>\u001b[0;34m\u001b[0m\n\u001b[0;32m----> 1\u001b[0;31m \u001b[0mc_4x4\u001b[0m \u001b[0;34m=\u001b[0m \u001b[0mcontraction4x4\u001b[0m\u001b[0;34m(\u001b[0m\u001b[0mgate1\u001b[0m\u001b[0;34m,\u001b[0m \u001b[0mgate2\u001b[0m\u001b[0;34m)\u001b[0m\u001b[0;34m\u001b[0m\u001b[0;34m\u001b[0m\u001b[0m\n\u001b[0m\u001b[1;32m      2\u001b[0m \u001b[0mc_4x4\u001b[0m\u001b[0;34m.\u001b[0m\u001b[0mshape\u001b[0m\u001b[0;34m\u001b[0m\u001b[0;34m\u001b[0m\u001b[0m\n",
      "\u001b[0;32m<ipython-input-7-f03bd4f234c8>\u001b[0m in \u001b[0;36mcontraction4x4\u001b[0;34m(gate1, gate2)\u001b[0m\n\u001b[1;32m      1\u001b[0m \u001b[0;32mdef\u001b[0m \u001b[0mcontraction4x4\u001b[0m\u001b[0;34m(\u001b[0m\u001b[0mgate1\u001b[0m\u001b[0;34m,\u001b[0m \u001b[0mgate2\u001b[0m\u001b[0;34m)\u001b[0m\u001b[0;34m:\u001b[0m\u001b[0;34m\u001b[0m\u001b[0;34m\u001b[0m\u001b[0m\n\u001b[1;32m      2\u001b[0m     \u001b[0mshape1\u001b[0m \u001b[0;34m=\u001b[0m \u001b[0mgate1\u001b[0m\u001b[0;34m.\u001b[0m\u001b[0mshape\u001b[0m\u001b[0;34m\u001b[0m\u001b[0;34m\u001b[0m\u001b[0m\n\u001b[0;32m----> 3\u001b[0;31m     \u001b[0mgate1_contraction\u001b[0m \u001b[0;34m=\u001b[0m \u001b[0mgate1\u001b[0m\u001b[0;34m.\u001b[0m\u001b[0mreshape\u001b[0m\u001b[0;34m(\u001b[0m\u001b[0mshape1\u001b[0m\u001b[0;34m[\u001b[0m\u001b[0;36m0\u001b[0m\u001b[0;34m]\u001b[0m\u001b[0;34m*\u001b[0m\u001b[0mshape1\u001b[0m\u001b[0;34m[\u001b[0m\u001b[0;36m1\u001b[0m\u001b[0;34m]\u001b[0m\u001b[0;34m*\u001b[0m\u001b[0mshape1\u001b[0m\u001b[0;34m[\u001b[0m\u001b[0;36m2\u001b[0m\u001b[0;34m]\u001b[0m\u001b[0;34m,\u001b[0m \u001b[0mshape1\u001b[0m\u001b[0;34m[\u001b[0m\u001b[0;36m3\u001b[0m\u001b[0;34m]\u001b[0m\u001b[0;34m)\u001b[0m\u001b[0;34m\u001b[0m\u001b[0;34m\u001b[0m\u001b[0m\n\u001b[0m\u001b[1;32m      4\u001b[0m     \u001b[0mshape2\u001b[0m \u001b[0;34m=\u001b[0m \u001b[0mgate2\u001b[0m\u001b[0;34m.\u001b[0m\u001b[0mshape\u001b[0m\u001b[0;34m\u001b[0m\u001b[0;34m\u001b[0m\u001b[0m\n\u001b[1;32m      5\u001b[0m     \u001b[0mgate2_contraction\u001b[0m \u001b[0;34m=\u001b[0m \u001b[0mgate2\u001b[0m\u001b[0;34m.\u001b[0m\u001b[0mreshape\u001b[0m\u001b[0;34m(\u001b[0m\u001b[0mshape2\u001b[0m\u001b[0;34m[\u001b[0m\u001b[0;36m0\u001b[0m\u001b[0;34m]\u001b[0m\u001b[0;34m,\u001b[0m \u001b[0mshape2\u001b[0m\u001b[0;34m[\u001b[0m\u001b[0;36m1\u001b[0m\u001b[0;34m]\u001b[0m\u001b[0;34m*\u001b[0m\u001b[0mshape2\u001b[0m\u001b[0;34m[\u001b[0m\u001b[0;36m2\u001b[0m\u001b[0;34m]\u001b[0m\u001b[0;34m*\u001b[0m\u001b[0mshape2\u001b[0m\u001b[0;34m[\u001b[0m\u001b[0;36m3\u001b[0m\u001b[0;34m]\u001b[0m\u001b[0;34m)\u001b[0m\u001b[0;34m\u001b[0m\u001b[0;34m\u001b[0m\u001b[0m\n",
      "\u001b[0;31mAttributeError\u001b[0m: 'Array' object has no attribute 'reshape'"
     ]
    }
   ],
   "source": [
    "c_4x4 = contraction4x4(gate1, gate2)\n",
    "c_4x4.shape"
   ]
  },
  {
   "cell_type": "code",
   "execution_count": 6,
   "metadata": {},
   "outputs": [],
   "source": [
    "def contraction_vertical(gate1, gate2):\n",
    "    shape1 = gate1.shape\n",
    "    gate1_contraction = gate1.reshape(shape1[0]*shape1[1]*shape1[2], shape1[3])\n",
    "    gate2_contraction = gate2.transpose(1,0,2,3)\n",
    "    shape2 = gate2.shape\n",
    "    gate2_contraction = gate2_contraction.reshape(shape2[0], shape2[1]*shape2[2]*shape2[3])\n",
    "    contraction = np.dot(gate1_contraction, gate2_contraction)\n",
    "    contraction = contraction.reshape(shape1[0], shape1[1], shape1[2], shape2[1], shape2[2], shape2[3])\n",
    "    contraction = contraction.transpose(0,3,1,2,4,5)\n",
    "    shapeC = contraction.shape\n",
    "    final_form = contraction.reshape(shapeC[0]*shapeC[1], shapeC[2], shapeC[3]*shapeC[4], shapeC[5])\n",
    "    return final_form"
   ]
  },
  {
   "cell_type": "code",
   "execution_count": 7,
   "metadata": {},
   "outputs": [
    {
     "data": {
      "text/plain": [
       "(4, 2, 4, 2)"
      ]
     },
     "execution_count": 7,
     "metadata": {},
     "output_type": "execute_result"
    }
   ],
   "source": [
    "c_vertical = contraction_vertical(gate1, gate2)\n",
    "c_vertical.shape"
   ]
  },
  {
   "cell_type": "code",
   "execution_count": 8,
   "metadata": {},
   "outputs": [],
   "source": [
    "def contraction_horizontal(gate1, gate2):\n",
    "    gate1_contraction = gate1.transpose(0,1,3,2)\n",
    "    shape1 = gate1_contraction.shape\n",
    "    gate1_contraction = gate1_contraction.reshape(shape1[0]*shape1[1]*shape1[2], shape1[3])\n",
    "    shape2 = gate2.shape\n",
    "    gate2_contraction = gate2.reshape(shape2[0], shape2[1]*shape2[2]*shape2[3])\n",
    "    contraction = np.dot(gate1_contraction, gate2_contraction)\n",
    "    contraction = contraction.reshape(shape1[0], shape1[1], shape1[2], shape2[1], shape2[2], shape2[3])\n",
    "    contraction = contraction.transpose(0,1,3,4,2,5)\n",
    "    shapeC = contraction.shape\n",
    "    final_form = contraction.reshape(shapeC[0], shapeC[1]*shapeC[2], shapeC[3], shapeC[4]*shapeC[5])\n",
    "    return final_form"
   ]
  },
  {
   "cell_type": "code",
   "execution_count": 9,
   "metadata": {},
   "outputs": [
    {
     "data": {
      "text/plain": [
       "(4, 4, 4, 4)"
      ]
     },
     "execution_count": 9,
     "metadata": {},
     "output_type": "execute_result"
    }
   ],
   "source": [
    "c_horizontal = contraction_horizontal(c_vertical, c_vertical)\n",
    "c_horizontal.shape"
   ]
  },
  {
   "cell_type": "code",
   "execution_count": 10,
   "metadata": {},
   "outputs": [],
   "source": [
    "def run_test():\n",
    "    c = gate1\n",
    "    for i in range(3):\n",
    "        c = contraction_vertical(c, c)\n",
    "        print(c.shape)\n",
    "        c = contraction_horizontal(c, c)\n",
    "        print(c.shape)"
   ]
  },
  {
   "cell_type": "code",
   "execution_count": 11,
   "metadata": {},
   "outputs": [
    {
     "name": "stdout",
     "output_type": "stream",
     "text": [
      "(4, 2, 4, 2)\n",
      "(4, 4, 4, 4)\n",
      "(16, 4, 16, 4)\n",
      "(16, 16, 16, 16)\n",
      "(256, 16, 256, 16)\n",
      "         205 function calls in 0.132 seconds\n",
      "\n",
      "   Ordered by: standard name\n",
      "\n",
      "   ncalls  tottime  percall  cumtime  percall filename:lineno(function)\n",
      "        6    0.000    0.000    0.060    0.010 <__array_function__ internals>:2(dot)\n",
      "        1    0.000    0.000    0.132    0.132 <ipython-input-10-76ac5a889385>:1(run_test)\n",
      "        3    0.000    0.000    0.088    0.029 <ipython-input-6-ccdc64f7ae11>:1(contraction_vertical)\n",
      "        3    0.000    0.000    0.043    0.014 <ipython-input-8-172de626b5e3>:1(contraction_horizontal)\n",
      "        1    0.000    0.000    0.132    0.132 <string>:1(<module>)\n",
      "        1    0.000    0.000    0.000    0.000 _exceptions.py:146(__init__)\n",
      "       11    0.000    0.000    0.001    0.000 iostream.py:197(schedule)\n",
      "       10    0.000    0.000    0.000    0.000 iostream.py:309(_is_master_process)\n",
      "       10    0.000    0.000    0.000    0.000 iostream.py:322(_schedule_flush)\n",
      "       10    0.000    0.000    0.001    0.000 iostream.py:384(write)\n",
      "       11    0.000    0.000    0.000    0.000 iostream.py:93(_event_pipe)\n",
      "        6    0.000    0.000    0.000    0.000 multiarray.py:707(dot)\n",
      "       11    0.001    0.000    0.001    0.000 socket.py:342(send)\n",
      "       11    0.000    0.000    0.000    0.000 threading.py:1062(_wait_for_tstate_lock)\n",
      "       11    0.000    0.000    0.000    0.000 threading.py:1104(is_alive)\n",
      "       11    0.000    0.000    0.000    0.000 threading.py:506(is_set)\n",
      "        1    0.000    0.000    0.132    0.132 {built-in method builtins.exec}\n",
      "       10    0.000    0.000    0.000    0.000 {built-in method builtins.isinstance}\n",
      "        5    0.000    0.000    0.001    0.000 {built-in method builtins.print}\n",
      "        6    0.060    0.010    0.060    0.010 {built-in method numpy.core._multiarray_umath.implement_array_function}\n",
      "       10    0.000    0.000    0.000    0.000 {built-in method posix.getpid}\n",
      "       11    0.000    0.000    0.000    0.000 {method 'acquire' of '_thread.lock' objects}\n",
      "       11    0.000    0.000    0.000    0.000 {method 'append' of 'collections.deque' objects}\n",
      "        1    0.000    0.000    0.000    0.000 {method 'disable' of '_lsprof.Profiler' objects}\n",
      "       22    0.070    0.003    0.070    0.003 {method 'reshape' of 'numpy.ndarray' objects}\n",
      "       11    0.000    0.000    0.000    0.000 {method 'transpose' of 'numpy.ndarray' objects}\n",
      "\n",
      "\n"
     ]
    },
    {
     "ename": "MemoryError",
     "evalue": "Unable to allocate 32.0 GiB for an array with shape (65536, 65536) and data type float64",
     "output_type": "error",
     "traceback": [
      "\u001b[0;31m---------------------------------------------------------------------------\u001b[0m",
      "\u001b[0;31mMemoryError\u001b[0m                               Traceback (most recent call last)",
      "\u001b[0;32m<ipython-input-11-0183952a952b>\u001b[0m in \u001b[0;36m<module>\u001b[0;34m\u001b[0m\n\u001b[1;32m      1\u001b[0m \u001b[0;32mimport\u001b[0m \u001b[0mcProfile\u001b[0m\u001b[0;34m\u001b[0m\u001b[0;34m\u001b[0m\u001b[0m\n\u001b[1;32m      2\u001b[0m \u001b[0;32mimport\u001b[0m \u001b[0mre\u001b[0m\u001b[0;34m\u001b[0m\u001b[0;34m\u001b[0m\u001b[0m\n\u001b[0;32m----> 3\u001b[0;31m \u001b[0mcProfile\u001b[0m\u001b[0;34m.\u001b[0m\u001b[0mrun\u001b[0m\u001b[0;34m(\u001b[0m\u001b[0;34m'run_test()'\u001b[0m\u001b[0;34m)\u001b[0m\u001b[0;34m\u001b[0m\u001b[0;34m\u001b[0m\u001b[0m\n\u001b[0m",
      "\u001b[0;32m/usr/lib/python3.6/cProfile.py\u001b[0m in \u001b[0;36mrun\u001b[0;34m(statement, filename, sort)\u001b[0m\n\u001b[1;32m     14\u001b[0m \u001b[0;34m\u001b[0m\u001b[0m\n\u001b[1;32m     15\u001b[0m \u001b[0;32mdef\u001b[0m \u001b[0mrun\u001b[0m\u001b[0;34m(\u001b[0m\u001b[0mstatement\u001b[0m\u001b[0;34m,\u001b[0m \u001b[0mfilename\u001b[0m\u001b[0;34m=\u001b[0m\u001b[0;32mNone\u001b[0m\u001b[0;34m,\u001b[0m \u001b[0msort\u001b[0m\u001b[0;34m=\u001b[0m\u001b[0;34m-\u001b[0m\u001b[0;36m1\u001b[0m\u001b[0;34m)\u001b[0m\u001b[0;34m:\u001b[0m\u001b[0;34m\u001b[0m\u001b[0;34m\u001b[0m\u001b[0m\n\u001b[0;32m---> 16\u001b[0;31m     \u001b[0;32mreturn\u001b[0m \u001b[0m_pyprofile\u001b[0m\u001b[0;34m.\u001b[0m\u001b[0m_Utils\u001b[0m\u001b[0;34m(\u001b[0m\u001b[0mProfile\u001b[0m\u001b[0;34m)\u001b[0m\u001b[0;34m.\u001b[0m\u001b[0mrun\u001b[0m\u001b[0;34m(\u001b[0m\u001b[0mstatement\u001b[0m\u001b[0;34m,\u001b[0m \u001b[0mfilename\u001b[0m\u001b[0;34m,\u001b[0m \u001b[0msort\u001b[0m\u001b[0;34m)\u001b[0m\u001b[0;34m\u001b[0m\u001b[0;34m\u001b[0m\u001b[0m\n\u001b[0m\u001b[1;32m     17\u001b[0m \u001b[0;34m\u001b[0m\u001b[0m\n\u001b[1;32m     18\u001b[0m \u001b[0;32mdef\u001b[0m \u001b[0mrunctx\u001b[0m\u001b[0;34m(\u001b[0m\u001b[0mstatement\u001b[0m\u001b[0;34m,\u001b[0m \u001b[0mglobals\u001b[0m\u001b[0;34m,\u001b[0m \u001b[0mlocals\u001b[0m\u001b[0;34m,\u001b[0m \u001b[0mfilename\u001b[0m\u001b[0;34m=\u001b[0m\u001b[0;32mNone\u001b[0m\u001b[0;34m,\u001b[0m \u001b[0msort\u001b[0m\u001b[0;34m=\u001b[0m\u001b[0;34m-\u001b[0m\u001b[0;36m1\u001b[0m\u001b[0;34m)\u001b[0m\u001b[0;34m:\u001b[0m\u001b[0;34m\u001b[0m\u001b[0;34m\u001b[0m\u001b[0m\n",
      "\u001b[0;32m/usr/lib/python3.6/profile.py\u001b[0m in \u001b[0;36mrun\u001b[0;34m(self, statement, filename, sort)\u001b[0m\n\u001b[1;32m     53\u001b[0m         \u001b[0mprof\u001b[0m \u001b[0;34m=\u001b[0m \u001b[0mself\u001b[0m\u001b[0;34m.\u001b[0m\u001b[0mprofiler\u001b[0m\u001b[0;34m(\u001b[0m\u001b[0;34m)\u001b[0m\u001b[0;34m\u001b[0m\u001b[0;34m\u001b[0m\u001b[0m\n\u001b[1;32m     54\u001b[0m         \u001b[0;32mtry\u001b[0m\u001b[0;34m:\u001b[0m\u001b[0;34m\u001b[0m\u001b[0;34m\u001b[0m\u001b[0m\n\u001b[0;32m---> 55\u001b[0;31m             \u001b[0mprof\u001b[0m\u001b[0;34m.\u001b[0m\u001b[0mrun\u001b[0m\u001b[0;34m(\u001b[0m\u001b[0mstatement\u001b[0m\u001b[0;34m)\u001b[0m\u001b[0;34m\u001b[0m\u001b[0;34m\u001b[0m\u001b[0m\n\u001b[0m\u001b[1;32m     56\u001b[0m         \u001b[0;32mexcept\u001b[0m \u001b[0mSystemExit\u001b[0m\u001b[0;34m:\u001b[0m\u001b[0;34m\u001b[0m\u001b[0;34m\u001b[0m\u001b[0m\n\u001b[1;32m     57\u001b[0m             \u001b[0;32mpass\u001b[0m\u001b[0;34m\u001b[0m\u001b[0;34m\u001b[0m\u001b[0m\n",
      "\u001b[0;32m/usr/lib/python3.6/cProfile.py\u001b[0m in \u001b[0;36mrun\u001b[0;34m(self, cmd)\u001b[0m\n\u001b[1;32m     93\u001b[0m         \u001b[0;32mimport\u001b[0m \u001b[0m__main__\u001b[0m\u001b[0;34m\u001b[0m\u001b[0;34m\u001b[0m\u001b[0m\n\u001b[1;32m     94\u001b[0m         \u001b[0mdict\u001b[0m \u001b[0;34m=\u001b[0m \u001b[0m__main__\u001b[0m\u001b[0;34m.\u001b[0m\u001b[0m__dict__\u001b[0m\u001b[0;34m\u001b[0m\u001b[0;34m\u001b[0m\u001b[0m\n\u001b[0;32m---> 95\u001b[0;31m         \u001b[0;32mreturn\u001b[0m \u001b[0mself\u001b[0m\u001b[0;34m.\u001b[0m\u001b[0mrunctx\u001b[0m\u001b[0;34m(\u001b[0m\u001b[0mcmd\u001b[0m\u001b[0;34m,\u001b[0m \u001b[0mdict\u001b[0m\u001b[0;34m,\u001b[0m \u001b[0mdict\u001b[0m\u001b[0;34m)\u001b[0m\u001b[0;34m\u001b[0m\u001b[0;34m\u001b[0m\u001b[0m\n\u001b[0m\u001b[1;32m     96\u001b[0m \u001b[0;34m\u001b[0m\u001b[0m\n\u001b[1;32m     97\u001b[0m     \u001b[0;32mdef\u001b[0m \u001b[0mrunctx\u001b[0m\u001b[0;34m(\u001b[0m\u001b[0mself\u001b[0m\u001b[0;34m,\u001b[0m \u001b[0mcmd\u001b[0m\u001b[0;34m,\u001b[0m \u001b[0mglobals\u001b[0m\u001b[0;34m,\u001b[0m \u001b[0mlocals\u001b[0m\u001b[0;34m)\u001b[0m\u001b[0;34m:\u001b[0m\u001b[0;34m\u001b[0m\u001b[0;34m\u001b[0m\u001b[0m\n",
      "\u001b[0;32m/usr/lib/python3.6/cProfile.py\u001b[0m in \u001b[0;36mrunctx\u001b[0;34m(self, cmd, globals, locals)\u001b[0m\n\u001b[1;32m     98\u001b[0m         \u001b[0mself\u001b[0m\u001b[0;34m.\u001b[0m\u001b[0menable\u001b[0m\u001b[0;34m(\u001b[0m\u001b[0;34m)\u001b[0m\u001b[0;34m\u001b[0m\u001b[0;34m\u001b[0m\u001b[0m\n\u001b[1;32m     99\u001b[0m         \u001b[0;32mtry\u001b[0m\u001b[0;34m:\u001b[0m\u001b[0;34m\u001b[0m\u001b[0;34m\u001b[0m\u001b[0m\n\u001b[0;32m--> 100\u001b[0;31m             \u001b[0mexec\u001b[0m\u001b[0;34m(\u001b[0m\u001b[0mcmd\u001b[0m\u001b[0;34m,\u001b[0m \u001b[0mglobals\u001b[0m\u001b[0;34m,\u001b[0m \u001b[0mlocals\u001b[0m\u001b[0;34m)\u001b[0m\u001b[0;34m\u001b[0m\u001b[0;34m\u001b[0m\u001b[0m\n\u001b[0m\u001b[1;32m    101\u001b[0m         \u001b[0;32mfinally\u001b[0m\u001b[0;34m:\u001b[0m\u001b[0;34m\u001b[0m\u001b[0;34m\u001b[0m\u001b[0m\n\u001b[1;32m    102\u001b[0m             \u001b[0mself\u001b[0m\u001b[0;34m.\u001b[0m\u001b[0mdisable\u001b[0m\u001b[0;34m(\u001b[0m\u001b[0;34m)\u001b[0m\u001b[0;34m\u001b[0m\u001b[0;34m\u001b[0m\u001b[0m\n",
      "\u001b[0;32m<string>\u001b[0m in \u001b[0;36m<module>\u001b[0;34m\u001b[0m\n",
      "\u001b[0;32m<ipython-input-10-76ac5a889385>\u001b[0m in \u001b[0;36mrun_test\u001b[0;34m()\u001b[0m\n\u001b[1;32m      4\u001b[0m         \u001b[0mc\u001b[0m \u001b[0;34m=\u001b[0m \u001b[0mcontraction_vertical\u001b[0m\u001b[0;34m(\u001b[0m\u001b[0mc\u001b[0m\u001b[0;34m,\u001b[0m \u001b[0mc\u001b[0m\u001b[0;34m)\u001b[0m\u001b[0;34m\u001b[0m\u001b[0;34m\u001b[0m\u001b[0m\n\u001b[1;32m      5\u001b[0m         \u001b[0mprint\u001b[0m\u001b[0;34m(\u001b[0m\u001b[0mc\u001b[0m\u001b[0;34m.\u001b[0m\u001b[0mshape\u001b[0m\u001b[0;34m)\u001b[0m\u001b[0;34m\u001b[0m\u001b[0;34m\u001b[0m\u001b[0m\n\u001b[0;32m----> 6\u001b[0;31m         \u001b[0mc\u001b[0m \u001b[0;34m=\u001b[0m \u001b[0mcontraction_horizontal\u001b[0m\u001b[0;34m(\u001b[0m\u001b[0mc\u001b[0m\u001b[0;34m,\u001b[0m \u001b[0mc\u001b[0m\u001b[0;34m)\u001b[0m\u001b[0;34m\u001b[0m\u001b[0;34m\u001b[0m\u001b[0m\n\u001b[0m\u001b[1;32m      7\u001b[0m         \u001b[0mprint\u001b[0m\u001b[0;34m(\u001b[0m\u001b[0mc\u001b[0m\u001b[0;34m.\u001b[0m\u001b[0mshape\u001b[0m\u001b[0;34m)\u001b[0m\u001b[0;34m\u001b[0m\u001b[0;34m\u001b[0m\u001b[0m\n",
      "\u001b[0;32m<ipython-input-8-172de626b5e3>\u001b[0m in \u001b[0;36mcontraction_horizontal\u001b[0;34m(gate1, gate2)\u001b[0m\n\u001b[1;32m      5\u001b[0m     \u001b[0mshape2\u001b[0m \u001b[0;34m=\u001b[0m \u001b[0mgate2\u001b[0m\u001b[0;34m.\u001b[0m\u001b[0mshape\u001b[0m\u001b[0;34m\u001b[0m\u001b[0;34m\u001b[0m\u001b[0m\n\u001b[1;32m      6\u001b[0m     \u001b[0mgate2_contraction\u001b[0m \u001b[0;34m=\u001b[0m \u001b[0mgate2\u001b[0m\u001b[0;34m.\u001b[0m\u001b[0mreshape\u001b[0m\u001b[0;34m(\u001b[0m\u001b[0mshape2\u001b[0m\u001b[0;34m[\u001b[0m\u001b[0;36m0\u001b[0m\u001b[0;34m]\u001b[0m\u001b[0;34m,\u001b[0m \u001b[0mshape2\u001b[0m\u001b[0;34m[\u001b[0m\u001b[0;36m1\u001b[0m\u001b[0;34m]\u001b[0m\u001b[0;34m*\u001b[0m\u001b[0mshape2\u001b[0m\u001b[0;34m[\u001b[0m\u001b[0;36m2\u001b[0m\u001b[0;34m]\u001b[0m\u001b[0;34m*\u001b[0m\u001b[0mshape2\u001b[0m\u001b[0;34m[\u001b[0m\u001b[0;36m3\u001b[0m\u001b[0;34m]\u001b[0m\u001b[0;34m)\u001b[0m\u001b[0;34m\u001b[0m\u001b[0;34m\u001b[0m\u001b[0m\n\u001b[0;32m----> 7\u001b[0;31m     \u001b[0mcontraction\u001b[0m \u001b[0;34m=\u001b[0m \u001b[0mnp\u001b[0m\u001b[0;34m.\u001b[0m\u001b[0mdot\u001b[0m\u001b[0;34m(\u001b[0m\u001b[0mgate1_contraction\u001b[0m\u001b[0;34m,\u001b[0m \u001b[0mgate2_contraction\u001b[0m\u001b[0;34m)\u001b[0m\u001b[0;34m\u001b[0m\u001b[0;34m\u001b[0m\u001b[0m\n\u001b[0m\u001b[1;32m      8\u001b[0m     \u001b[0mcontraction\u001b[0m \u001b[0;34m=\u001b[0m \u001b[0mcontraction\u001b[0m\u001b[0;34m.\u001b[0m\u001b[0mreshape\u001b[0m\u001b[0;34m(\u001b[0m\u001b[0mshape1\u001b[0m\u001b[0;34m[\u001b[0m\u001b[0;36m0\u001b[0m\u001b[0;34m]\u001b[0m\u001b[0;34m,\u001b[0m \u001b[0mshape1\u001b[0m\u001b[0;34m[\u001b[0m\u001b[0;36m1\u001b[0m\u001b[0;34m]\u001b[0m\u001b[0;34m,\u001b[0m \u001b[0mshape1\u001b[0m\u001b[0;34m[\u001b[0m\u001b[0;36m2\u001b[0m\u001b[0;34m]\u001b[0m\u001b[0;34m,\u001b[0m \u001b[0mshape2\u001b[0m\u001b[0;34m[\u001b[0m\u001b[0;36m1\u001b[0m\u001b[0;34m]\u001b[0m\u001b[0;34m,\u001b[0m \u001b[0mshape2\u001b[0m\u001b[0;34m[\u001b[0m\u001b[0;36m2\u001b[0m\u001b[0;34m]\u001b[0m\u001b[0;34m,\u001b[0m \u001b[0mshape2\u001b[0m\u001b[0;34m[\u001b[0m\u001b[0;36m3\u001b[0m\u001b[0;34m]\u001b[0m\u001b[0;34m)\u001b[0m\u001b[0;34m\u001b[0m\u001b[0;34m\u001b[0m\u001b[0m\n\u001b[1;32m      9\u001b[0m     \u001b[0mcontraction\u001b[0m \u001b[0;34m=\u001b[0m \u001b[0mcontraction\u001b[0m\u001b[0;34m.\u001b[0m\u001b[0mtranspose\u001b[0m\u001b[0;34m(\u001b[0m\u001b[0;36m0\u001b[0m\u001b[0;34m,\u001b[0m\u001b[0;36m1\u001b[0m\u001b[0;34m,\u001b[0m\u001b[0;36m3\u001b[0m\u001b[0;34m,\u001b[0m\u001b[0;36m4\u001b[0m\u001b[0;34m,\u001b[0m\u001b[0;36m2\u001b[0m\u001b[0;34m,\u001b[0m\u001b[0;36m5\u001b[0m\u001b[0;34m)\u001b[0m\u001b[0;34m\u001b[0m\u001b[0;34m\u001b[0m\u001b[0m\n",
      "\u001b[0;32m<__array_function__ internals>\u001b[0m in \u001b[0;36mdot\u001b[0;34m(*args, **kwargs)\u001b[0m\n",
      "\u001b[0;31mMemoryError\u001b[0m: Unable to allocate 32.0 GiB for an array with shape (65536, 65536) and data type float64"
     ]
    }
   ],
   "source": []
  },
  {
   "cell_type": "code",
   "execution_count": null,
   "metadata": {},
   "outputs": [],
   "source": [
    "def truncation_horizontal(gate1, gate2, dim_tol):\n",
    "    gate1_contraction = gate1.transpose(0,1,3,2)\n",
    "    shape1 = gate1_contraction.shape\n",
    "    gate1_contraction = gate1_contraction.reshape(shape1[0]*shape1[1]*shape1[2], shape1[3])\n",
    "    shape2 = gate2.shape\n",
    "    gate2_contraction = gate2.reshape(shape2[0], shape2[1]*shape2[2]*shape2[3])\n",
    "    contraction = np.dot(gate1_contraction, gate2_contraction)\n",
    "    \n",
    "    [u,s,v] = np.linalg.svd(contraction)\n",
    "\n",
    "    u = u[:,:dim_tol]\n",
    "    v = v[:dim_tol,:]\n",
    "    \n",
    "    u_final = u.reshape(shape1[0], shape1[1], shape1[2], dim_tol)\n",
    "    v_final = v.reshape(dim_tol, shape2[1], shape2[2], shape2[3])\n",
    "    \n",
    "    return u_final, v_final"
   ]
  },
  {
   "cell_type": "code",
   "execution_count": null,
   "metadata": {},
   "outputs": [],
   "source": [
    "u, v = truncation_horizontal(gate1, gate2, 2)\n",
    "print(u.shape)\n",
    "print(v.shape)"
   ]
  },
  {
   "cell_type": "code",
   "execution_count": null,
   "metadata": {},
   "outputs": [],
   "source": [
    "c = contraction_vertical(gate1, gate2)\n",
    "print(c.shape)\n",
    "u, v = truncation_horizontal(c, c, 2)\n",
    "print(u.shape)\n",
    "print(v.shape)"
   ]
  },
  {
   "cell_type": "code",
   "execution_count": null,
   "metadata": {},
   "outputs": [],
   "source": []
  }
 ],
 "metadata": {
  "kernelspec": {
   "display_name": "Python 3",
   "language": "python",
   "name": "python3"
  },
  "language_info": {
   "codemirror_mode": {
    "name": "ipython",
    "version": 3
   },
   "file_extension": ".py",
   "mimetype": "text/x-python",
   "name": "python",
   "nbconvert_exporter": "python",
   "pygments_lexer": "ipython3",
   "version": "3.6.9"
  }
 },
 "nbformat": 4,
 "nbformat_minor": 4
}
