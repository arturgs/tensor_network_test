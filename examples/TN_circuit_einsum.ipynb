{
 "cells": [
  {
   "cell_type": "markdown",
   "metadata": {},
   "source": [
    "# Tensor Network Quantum circuit"
   ]
  },
  {
   "cell_type": "code",
   "execution_count": 1,
   "metadata": {},
   "outputs": [],
   "source": [
    "import numpy as np"
   ]
  },
  {
   "cell_type": "markdown",
   "metadata": {},
   "source": [
    "We define states $|0\\rangle$ and $|1\\rangle$"
   ]
  },
  {
   "cell_type": "code",
   "execution_count": 2,
   "metadata": {},
   "outputs": [],
   "source": [
    "s0 = np.array([1,0])\n",
    "s1 = np.array([0,1])"
   ]
  },
  {
   "cell_type": "markdown",
   "metadata": {},
   "source": [
    "And Pauli matrices X, Y, Z"
   ]
  },
  {
   "cell_type": "code",
   "execution_count": 3,
   "metadata": {},
   "outputs": [],
   "source": [
    "opX = np.array([[0,1],[1,0]])\n",
    "opZ = np.array([[1,0],[0,-1]])\n",
    "opY = np.array([[0,-1j],[1j,0]])"
   ]
  },
  {
   "cell_type": "code",
   "execution_count": 4,
   "metadata": {},
   "outputs": [],
   "source": [
    "def printState(s):\n",
    "    st = np.ndarray.flatten(s)\n",
    "    print(st[::-1],sep='')"
   ]
  },
  {
   "cell_type": "code",
   "execution_count": 5,
   "metadata": {},
   "outputs": [
    {
     "name": "stdout",
     "output_type": "stream",
     "text": [
      "[0 1]\n",
      "[1 0]\n"
     ]
    }
   ],
   "source": [
    "printState(s0)\n",
    "printState(s1)"
   ]
  },
  {
   "cell_type": "markdown",
   "metadata": {},
   "source": [
    "## TN contractions with numpy.einsum"
   ]
  },
  {
   "cell_type": "code",
   "execution_count": 32,
   "metadata": {},
   "outputs": [
    {
     "data": {
      "text/plain": [
       "array([[0.+1.j, 0.+0.j],\n",
       "       [0.+0.j, 0.-1.j]])"
      ]
     },
     "execution_count": 32,
     "metadata": {},
     "output_type": "execute_result"
    }
   ],
   "source": [
    "np.einsum('kj,ji',opX,opY)"
   ]
  },
  {
   "cell_type": "code",
   "execution_count": 33,
   "metadata": {},
   "outputs": [
    {
     "data": {
      "text/plain": [
       "array([0, 1])"
      ]
     },
     "execution_count": 33,
     "metadata": {},
     "output_type": "execute_result"
    }
   ],
   "source": [
    "np.einsum('i,ij',s0,opX)"
   ]
  },
  {
   "cell_type": "code",
   "execution_count": 8,
   "metadata": {},
   "outputs": [
    {
     "data": {
      "text/plain": [
       "array([ 0, -1])"
      ]
     },
     "execution_count": 8,
     "metadata": {},
     "output_type": "execute_result"
    }
   ],
   "source": [
    "np.einsum('i,ij',s1,opZ)"
   ]
  },
  {
   "cell_type": "code",
   "execution_count": 9,
   "metadata": {},
   "outputs": [
    {
     "data": {
      "text/plain": [
       "array([0, 1])"
      ]
     },
     "execution_count": 9,
     "metadata": {},
     "output_type": "execute_result"
    }
   ],
   "source": [
    "np.einsum('i,ij,jk',s1,opZ,opZ)"
   ]
  },
  {
   "cell_type": "markdown",
   "metadata": {},
   "source": [
    "## 2-qubit gates"
   ]
  },
  {
   "cell_type": "code",
   "execution_count": 10,
   "metadata": {},
   "outputs": [],
   "source": [
    "cnot = np.array([[1,0,0,0],[0,1,0,0],[0,0,0,1],[0,0,1,0]])\n",
    "cnot = np.reshape(cnot,[2,2,2,2])"
   ]
  },
  {
   "cell_type": "code",
   "execution_count": 11,
   "metadata": {},
   "outputs": [
    {
     "name": "stdout",
     "output_type": "stream",
     "text": [
      "[[0 0]\n",
      " [1 0]]\n"
     ]
    }
   ],
   "source": [
    "res = np.einsum('i,j,ijkl',s1,s1,cnot)\n",
    "print(res)"
   ]
  },
  {
   "cell_type": "code",
   "execution_count": 12,
   "metadata": {},
   "outputs": [
    {
     "name": "stdout",
     "output_type": "stream",
     "text": [
      "[0 1 0 0]\n"
     ]
    }
   ],
   "source": [
    "printState(res)"
   ]
  },
  {
   "cell_type": "markdown",
   "metadata": {},
   "source": [
    "### Test with 3 and 4 qubits"
   ]
  },
  {
   "cell_type": "code",
   "execution_count": 13,
   "metadata": {},
   "outputs": [
    {
     "name": "stdout",
     "output_type": "stream",
     "text": [
      "[1 0 0 0 0 0 0 0]\n"
     ]
    }
   ],
   "source": [
    "printState(np.einsum('i,j,k',s1,s1,s1))"
   ]
  },
  {
   "cell_type": "code",
   "execution_count": 14,
   "metadata": {},
   "outputs": [
    {
     "name": "stdout",
     "output_type": "stream",
     "text": [
      "[0 1 0 0 0 0 0 0]\n"
     ]
    }
   ],
   "source": [
    "res = np.einsum('i,j,ijkl',s1,s1,cnot)\n",
    "res = np.einsum('ij,k,jksq',res,s1,cnot)\n",
    "printState(res)"
   ]
  },
  {
   "cell_type": "code",
   "execution_count": 15,
   "metadata": {},
   "outputs": [],
   "source": [
    "res = np.einsum('i,j,m,ijkl,lmsq',s1,s1,s1,cnot,cnot)"
   ]
  },
  {
   "cell_type": "code",
   "execution_count": 16,
   "metadata": {},
   "outputs": [
    {
     "name": "stdout",
     "output_type": "stream",
     "text": [
      "[0 1 0 0 0 0 0 0]\n"
     ]
    }
   ],
   "source": [
    "printState(res)"
   ]
  },
  {
   "cell_type": "code",
   "execution_count": 17,
   "metadata": {},
   "outputs": [
    {
     "name": "stdout",
     "output_type": "stream",
     "text": [
      "[0 0 0 0 0 1 0 0 0 0 0 0 0 0 0 0]\n"
     ]
    }
   ],
   "source": [
    "res = np.einsum('a,b,c,d,abij,jckl,ldmn',s1,s1,s1,s1,cnot,cnot,cnot)\n",
    "printState(res)"
   ]
  },
  {
   "cell_type": "markdown",
   "metadata": {},
   "source": [
    "### Einsum-path tests: contraction order"
   ]
  },
  {
   "cell_type": "markdown",
   "metadata": {},
   "source": [
    "<img src=\"circuit.jpg\" width=600 height=600 />"
   ]
  },
  {
   "cell_type": "code",
   "execution_count": 20,
   "metadata": {},
   "outputs": [
    {
     "name": "stdout",
     "output_type": "stream",
     "text": [
      "  Complete contraction:  a,b,c,d,abij,jckl,ldmn->ikmn\n",
      "         Naive scaling:  10\n",
      "     Optimized scaling:  5\n",
      "      Naive FLOP count:  7.168e+03\n",
      "  Optimized FLOP count:  2.090e+02\n",
      "   Theoretical speedup:  34.297\n",
      "  Largest intermediate:  1.600e+01 elements\n",
      "--------------------------------------------------------------------------\n",
      "scaling                  current                                remaining\n",
      "--------------------------------------------------------------------------\n",
      "   4                 abij,a->bij                b,c,d,jckl,ldmn,bij->ikmn\n",
      "   4                 jckl,c->jkl                   b,d,ldmn,bij,jkl->ikmn\n",
      "   4                 ldmn,d->lmn                      b,bij,jkl,lmn->ikmn\n",
      "   3                   bij,b->ij                         jkl,lmn,ij->ikmn\n",
      "   4                 ij,jkl->ikl                            lmn,ikl->ikmn\n",
      "   5               ikl,lmn->ikmn                               ikmn->ikmn\n",
      "['einsum_path', (0, 4), (1, 3), (1, 2), (0, 1), (0, 2), (0, 1)]\n"
     ]
    }
   ],
   "source": [
    "path = np.einsum_path('a,b,c,d,abij,jckl,ldmn',s1,s1,s1,s1,cnot,cnot,cnot,optimize='greedy')\n",
    "print(path[1])\n",
    "print(path[0])"
   ]
  },
  {
   "cell_type": "code",
   "execution_count": 21,
   "metadata": {},
   "outputs": [
    {
     "name": "stdout",
     "output_type": "stream",
     "text": [
      "  Complete contraction:  a,b,c,d,abij,jckl,ldmn->ikmn\n",
      "         Naive scaling:  10\n",
      "     Optimized scaling:  5\n",
      "      Naive FLOP count:  7.168e+03\n",
      "  Optimized FLOP count:  1.970e+02\n",
      "   Theoretical speedup:  36.386\n",
      "  Largest intermediate:  1.600e+01 elements\n",
      "--------------------------------------------------------------------------\n",
      "scaling                  current                                remaining\n",
      "--------------------------------------------------------------------------\n",
      "   2                     b,a->ab              c,d,abij,jckl,ldmn,ab->ikmn\n",
      "   4                 jckl,c->jkl                 d,abij,ldmn,ab,jkl->ikmn\n",
      "   4                 ldmn,d->lmn                    abij,ab,jkl,lmn->ikmn\n",
      "   4                 ab,abij->ij                         jkl,lmn,ij->ikmn\n",
      "   4                 ij,jkl->ikl                            lmn,ikl->ikmn\n",
      "   5               ikl,lmn->ikmn                               ikmn->ikmn\n",
      "['einsum_path', (0, 1), (0, 3), (0, 2), (0, 1), (0, 2), (0, 1)]\n"
     ]
    }
   ],
   "source": [
    "path = np.einsum_path('a,b,c,d,abij,jckl,ldmn',s1,s1,s1,s1,cnot,cnot,cnot,optimize='optimal')\n",
    "print(path[1])\n",
    "print(path[0])"
   ]
  },
  {
   "cell_type": "code",
   "execution_count": null,
   "metadata": {},
   "outputs": [],
   "source": []
  }
 ],
 "metadata": {
  "kernelspec": {
   "display_name": "Python 3",
   "language": "python",
   "name": "python3"
  },
  "language_info": {
   "codemirror_mode": {
    "name": "ipython",
    "version": 3
   },
   "file_extension": ".py",
   "mimetype": "text/x-python",
   "name": "python",
   "nbconvert_exporter": "python",
   "pygments_lexer": "ipython3",
   "version": "3.6.9"
  }
 },
 "nbformat": 4,
 "nbformat_minor": 4
}
